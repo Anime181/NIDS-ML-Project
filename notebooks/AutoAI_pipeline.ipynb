{
 "cells": [
  {
   "cell_type": "markdown",
   "id": "5b496b8f",
   "metadata": {},
   "source": [
    "# AutoAI Pipeline for Network Intrusion Detection System (NIDS)\n",
    "\n",
    "This notebook demonstrates how IBM AutoAI is used to build a robust machine learning model to detect various network intrusions such as DoS, Probe, R2L, and U2R."
   ]
  },
  {
   "cell_type": "markdown",
   "id": "00afa952",
   "metadata": {},
   "source": [
    "## Dataset Overview\n",
    "We use a labeled dataset (`Train_data.csv`) containing network traffic records. Each record has several features representing connection metadata and a label in the `class` column.\n",
    "\n",
    "Example attacks:\n",
    "- **DoS** (Denial of Service)\n",
    "- **Probe** (Surveillance)\n",
    "- **R2L** (Remote to Local)\n",
    "- **U2R** (User to Root)\n",
    "- **Normal** traffic"
   ]
  },
  {
   "cell_type": "code",
   "execution_count": null,
   "id": "821a7c4b",
   "metadata": {},
   "outputs": [],
   "source": [
    "import pandas as pd\n",
    "\n",
    "# Load the dataset\n",
    "df = pd.read_csv('Train_data.csv')\n",
    "df.head()"
   ]
  },
  {
   "cell_type": "markdown",
   "id": "82cc1973",
   "metadata": {},
   "source": [
    "## IBM Cloud AutoAI Setup\n",
    "1. Go to IBM Cloud > Watson Studio > AutoAI.\n",
    "2. Upload `Train_data.csv`\n",
    "3. Set `class` as the target column.\n",
    "4. Select `Multiclass Classification`.\n",
    "5. Leave Time Series **disabled**.\n",
    "6. Start the AutoAI experiment.\n",
    "7. Evaluate pipelines and choose the best model."
   ]
  },
  {
   "cell_type": "markdown",
   "id": "aa2c2537",
   "metadata": {},
   "source": [
    "## Model Deployment Info\n",
    "- Region: `au-syd`\n",
    "- Deployment Type: Online\n",
    "- Deployment ID: `<your-deployment-id>`\n",
    "- AutoAI selects and deploys the best pipeline."
   ]
  },
  {
   "cell_type": "markdown",
   "id": "58265023",
   "metadata": {},
   "source": [
    "## Test the Deployed Model"
   ]
  },
  {
   "cell_type": "code",
   "execution_count": null,
   "id": "4148ce39",
   "metadata": {},
   "outputs": [],
   "source": [
    "import requests\n",
    "\n",
    "API_KEY = \"Os8Fxo5yxnt6TB0zzt_HAs0ZhKF5sf1Oo_rCinsZPFg8\"\n",
    "token_response = requests.post(\n",
    "    'https://iam.cloud.ibm.com/identity/token',\n",
    "    data={\"apikey\": API_KEY, \"grant_type\": 'urn:ibm:params:oauth:grant-type:apikey'}\n",
    ")\n",
    "mltoken = token_response.json()[\"access_token\"]\n",
    "\n",
    "payload_scoring = {\n",
    "    \"input_data\": [\n",
    "        {\n",
    "            \"fields\": [\"duration\", \"src_bytes\", \"dst_bytes\", \"count\", \"srv_count\"],  # adjust fields based on your dataset\n",
    "            \"values\": [[12, 300, 2500, 5, 10]]\n",
    "        }\n",
    "    ]\n",
    "}\n",
    "\n",
    "response_scoring = requests.post(\n",
    "    'https://private.au-syd.ml.cloud.ibm.com/ml/v4/deployments/<your-deployment-id>/predictions?version=2021-05-01',\n",
    "    json=payload_scoring,\n",
    "    headers={'Authorization': 'Bearer ' + mltoken}\n",
    ")\n",
    "\n",
    "print(response_scoring.json())"
   ]
  },
  {
   "cell_type": "markdown",
   "id": "5965a087",
   "metadata": {},
   "source": [
    "## Conclusion\n",
    "The AutoAI-generated model can successfully classify different network intrusion types. With real-time integration, it can be used to detect attacks in communication networks and raise early alerts for system administrators."
   ]
  }
 ],
 "metadata": {
  "language_info": {
   "name": "python"
  }
 },
 "nbformat": 4,
 "nbformat_minor": 5
}
